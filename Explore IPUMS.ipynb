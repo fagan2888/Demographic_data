{
 "cells": [
  {
   "cell_type": "markdown",
   "metadata": {},
   "source": [
    "## Explore IPUMS data\n"
   ]
  },
  {
   "cell_type": "code",
   "execution_count": 2,
   "metadata": {},
   "outputs": [
    {
     "data": {
      "text/html": [
       "'/Users/mb/Documents/R Programming/IPUMS/code'"
      ],
      "text/latex": [
       "'/Users/mb/Documents/R Programming/IPUMS/code'"
      ],
      "text/markdown": [
       "'/Users/mb/Documents/R Programming/IPUMS/code'"
      ],
      "text/plain": [
       "[1] \"/Users/mb/Documents/R Programming/IPUMS/code\""
      ]
     },
     "metadata": {},
     "output_type": "display_data"
    }
   ],
   "source": [
    "# Read CSV into R\n",
    "getwd()"
   ]
  },
  {
   "cell_type": "code",
   "execution_count": 3,
   "metadata": {},
   "outputs": [],
   "source": [
    "MyData <- read.csv(file=\"../input_data/usa_00002.csv\", \n",
    "                   header=TRUE, \n",
    "                   sep=\",\")"
   ]
  },
  {
   "cell_type": "code",
   "execution_count": 13,
   "metadata": {},
   "outputs": [
    {
     "data": {
      "text/html": [
       "<table>\n",
       "<thead><tr><th></th><th scope=col>YEAR</th><th scope=col>DATANUM</th><th scope=col>PERWT</th><th scope=col>SEX</th><th scope=col>AGE</th><th scope=col>MARST</th><th scope=col>RACE</th><th scope=col>RACED</th><th scope=col>HISPAN</th><th scope=col>HISPAND</th><th scope=col>⋯</th><th scope=col>SPEAKENG</th><th scope=col>EDUC</th><th scope=col>EDUCD</th><th scope=col>EMPSTAT</th><th scope=col>EMPSTATD</th><th scope=col>OCC</th><th scope=col>IND</th><th scope=col>INCTOT</th><th scope=col>INCWAGE</th><th scope=col>POVERTY</th></tr></thead>\n",
       "<tbody>\n",
       "\t<tr><th scope=row>6346518</th><td>2017 </td><td>1    </td><td>43   </td><td>1    </td><td>18   </td><td>6    </td><td>1    </td><td>100  </td><td>0    </td><td>  0  </td><td>⋯    </td><td>3    </td><td>6    </td><td>63   </td><td>3    </td><td>30   </td><td>4250 </td><td>7770 </td><td> 4000</td><td> 4000</td><td> 0   </td></tr>\n",
       "\t<tr><th scope=row>6346519</th><td>2017 </td><td>1    </td><td>87   </td><td>1    </td><td>30   </td><td>6    </td><td>1    </td><td>100  </td><td>0    </td><td>  0  </td><td>⋯    </td><td>4    </td><td>6    </td><td>64   </td><td>3    </td><td>30   </td><td>   0 </td><td>   0 </td><td>    0</td><td>    0</td><td> 0   </td></tr>\n",
       "\t<tr><th scope=row>6346520</th><td>2017 </td><td>1    </td><td>38   </td><td>1    </td><td>18   </td><td>6    </td><td>1    </td><td>100  </td><td>4    </td><td>422  </td><td>⋯    </td><td>3    </td><td>6    </td><td>65   </td><td>3    </td><td>30   </td><td>4120 </td><td>8590 </td><td>10000</td><td>10000</td><td> 0   </td></tr>\n",
       "\t<tr><th scope=row>6346521</th><td>2017 </td><td>1    </td><td>37   </td><td>1    </td><td>51   </td><td>4    </td><td>1    </td><td>100  </td><td>0    </td><td>  0  </td><td>⋯    </td><td>4    </td><td>8    </td><td>81   </td><td>3    </td><td>30   </td><td>4250 </td><td>7770 </td><td>35300</td><td>35300</td><td> 0   </td></tr>\n",
       "\t<tr><th scope=row>6346522</th><td>2017 </td><td>1    </td><td>43   </td><td>1    </td><td>19   </td><td>6    </td><td>1    </td><td>100  </td><td>0    </td><td>  0  </td><td>⋯    </td><td>3    </td><td>6    </td><td>65   </td><td>1    </td><td>14   </td><td>3850 </td><td>9680 </td><td>29800</td><td>29800</td><td> 0   </td></tr>\n",
       "\t<tr><th scope=row>6346523</th><td>2017 </td><td>1    </td><td>10   </td><td>2    </td><td>20   </td><td>6    </td><td>1    </td><td>100  </td><td>0    </td><td>  0  </td><td>⋯    </td><td>3    </td><td>7    </td><td>71   </td><td>1    </td><td>12   </td><td>4230 </td><td>7690 </td><td> 9000</td><td> 9000</td><td> 0   </td></tr>\n",
       "\t<tr><th scope=row>6346524</th><td>2017 </td><td>1    </td><td>36   </td><td>1    </td><td>18   </td><td>6    </td><td>1    </td><td>100  </td><td>4    </td><td>498  </td><td>⋯    </td><td>3    </td><td>6    </td><td>63   </td><td>3    </td><td>30   </td><td>6050 </td><td> 180 </td><td> 4000</td><td>    0</td><td> 0   </td></tr>\n",
       "\t<tr><th scope=row>6346525</th><td>2017 </td><td>1    </td><td>70   </td><td>2    </td><td>31   </td><td>6    </td><td>8    </td><td>856  </td><td>0    </td><td>  0  </td><td>⋯    </td><td>4    </td><td>6    </td><td>65   </td><td>3    </td><td>30   </td><td>4030 </td><td>8680 </td><td> 5000</td><td> 5000</td><td> 0   </td></tr>\n",
       "\t<tr><th scope=row>6346526</th><td>2017 </td><td>1    </td><td>46   </td><td>1    </td><td>60   </td><td>4    </td><td>1    </td><td>100  </td><td>0    </td><td>  0  </td><td>⋯    </td><td>3    </td><td>7    </td><td>71   </td><td>3    </td><td>30   </td><td>5400 </td><td>8290 </td><td> 2400</td><td> 2400</td><td>19   </td></tr>\n",
       "\t<tr><th scope=row>6346527</th><td>2017 </td><td>1    </td><td> 8   </td><td>1    </td><td>20   </td><td>6    </td><td>1    </td><td>100  </td><td>0    </td><td>  0  </td><td>⋯    </td><td>3    </td><td>6    </td><td>65   </td><td>3    </td><td>30   </td><td>   0 </td><td>   0 </td><td>    0</td><td>    0</td><td> 0   </td></tr>\n",
       "</tbody>\n",
       "</table>\n"
      ],
      "text/latex": [
       "\\begin{tabular}{r|llllllllllllllllllllll}\n",
       "  & YEAR & DATANUM & PERWT & SEX & AGE & MARST & RACE & RACED & HISPAN & HISPAND & ⋯ & SPEAKENG & EDUC & EDUCD & EMPSTAT & EMPSTATD & OCC & IND & INCTOT & INCWAGE & POVERTY\\\\\n",
       "\\hline\n",
       "\t6346518 & 2017  & 1     & 43    & 1     & 18    & 6     & 1     & 100   & 0     &   0   & ⋯     & 3     & 6     & 63    & 3     & 30    & 4250  & 7770  &  4000 &  4000 &  0   \\\\\n",
       "\t6346519 & 2017  & 1     & 87    & 1     & 30    & 6     & 1     & 100   & 0     &   0   & ⋯     & 4     & 6     & 64    & 3     & 30    &    0  &    0  &     0 &     0 &  0   \\\\\n",
       "\t6346520 & 2017  & 1     & 38    & 1     & 18    & 6     & 1     & 100   & 4     & 422   & ⋯     & 3     & 6     & 65    & 3     & 30    & 4120  & 8590  & 10000 & 10000 &  0   \\\\\n",
       "\t6346521 & 2017  & 1     & 37    & 1     & 51    & 4     & 1     & 100   & 0     &   0   & ⋯     & 4     & 8     & 81    & 3     & 30    & 4250  & 7770  & 35300 & 35300 &  0   \\\\\n",
       "\t6346522 & 2017  & 1     & 43    & 1     & 19    & 6     & 1     & 100   & 0     &   0   & ⋯     & 3     & 6     & 65    & 1     & 14    & 3850  & 9680  & 29800 & 29800 &  0   \\\\\n",
       "\t6346523 & 2017  & 1     & 10    & 2     & 20    & 6     & 1     & 100   & 0     &   0   & ⋯     & 3     & 7     & 71    & 1     & 12    & 4230  & 7690  &  9000 &  9000 &  0   \\\\\n",
       "\t6346524 & 2017  & 1     & 36    & 1     & 18    & 6     & 1     & 100   & 4     & 498   & ⋯     & 3     & 6     & 63    & 3     & 30    & 6050  &  180  &  4000 &     0 &  0   \\\\\n",
       "\t6346525 & 2017  & 1     & 70    & 2     & 31    & 6     & 8     & 856   & 0     &   0   & ⋯     & 4     & 6     & 65    & 3     & 30    & 4030  & 8680  &  5000 &  5000 &  0   \\\\\n",
       "\t6346526 & 2017  & 1     & 46    & 1     & 60    & 4     & 1     & 100   & 0     &   0   & ⋯     & 3     & 7     & 71    & 3     & 30    & 5400  & 8290  &  2400 &  2400 & 19   \\\\\n",
       "\t6346527 & 2017  & 1     &  8    & 1     & 20    & 6     & 1     & 100   & 0     &   0   & ⋯     & 3     & 6     & 65    & 3     & 30    &    0  &    0  &     0 &     0 &  0   \\\\\n",
       "\\end{tabular}\n"
      ],
      "text/markdown": [
       "\n",
       "| <!--/--> | YEAR | DATANUM | PERWT | SEX | AGE | MARST | RACE | RACED | HISPAN | HISPAND | ⋯ | SPEAKENG | EDUC | EDUCD | EMPSTAT | EMPSTATD | OCC | IND | INCTOT | INCWAGE | POVERTY |\n",
       "|---|---|---|---|---|---|---|---|---|---|---|---|---|---|---|---|---|---|---|---|---|---|\n",
       "| 6346518 | 2017  | 1     | 43    | 1     | 18    | 6     | 1     | 100   | 0     |   0   | ⋯     | 3     | 6     | 63    | 3     | 30    | 4250  | 7770  |  4000 |  4000 |  0    |\n",
       "| 6346519 | 2017  | 1     | 87    | 1     | 30    | 6     | 1     | 100   | 0     |   0   | ⋯     | 4     | 6     | 64    | 3     | 30    |    0  |    0  |     0 |     0 |  0    |\n",
       "| 6346520 | 2017  | 1     | 38    | 1     | 18    | 6     | 1     | 100   | 4     | 422   | ⋯     | 3     | 6     | 65    | 3     | 30    | 4120  | 8590  | 10000 | 10000 |  0    |\n",
       "| 6346521 | 2017  | 1     | 37    | 1     | 51    | 4     | 1     | 100   | 0     |   0   | ⋯     | 4     | 8     | 81    | 3     | 30    | 4250  | 7770  | 35300 | 35300 |  0    |\n",
       "| 6346522 | 2017  | 1     | 43    | 1     | 19    | 6     | 1     | 100   | 0     |   0   | ⋯     | 3     | 6     | 65    | 1     | 14    | 3850  | 9680  | 29800 | 29800 |  0    |\n",
       "| 6346523 | 2017  | 1     | 10    | 2     | 20    | 6     | 1     | 100   | 0     |   0   | ⋯     | 3     | 7     | 71    | 1     | 12    | 4230  | 7690  |  9000 |  9000 |  0    |\n",
       "| 6346524 | 2017  | 1     | 36    | 1     | 18    | 6     | 1     | 100   | 4     | 498   | ⋯     | 3     | 6     | 63    | 3     | 30    | 6050  |  180  |  4000 |     0 |  0    |\n",
       "| 6346525 | 2017  | 1     | 70    | 2     | 31    | 6     | 8     | 856   | 0     |   0   | ⋯     | 4     | 6     | 65    | 3     | 30    | 4030  | 8680  |  5000 |  5000 |  0    |\n",
       "| 6346526 | 2017  | 1     | 46    | 1     | 60    | 4     | 1     | 100   | 0     |   0   | ⋯     | 3     | 7     | 71    | 3     | 30    | 5400  | 8290  |  2400 |  2400 | 19    |\n",
       "| 6346527 | 2017  | 1     |  8    | 1     | 20    | 6     | 1     | 100   | 0     |   0   | ⋯     | 3     | 6     | 65    | 3     | 30    |    0  |    0  |     0 |     0 |  0    |\n",
       "\n"
      ],
      "text/plain": [
       "        YEAR DATANUM PERWT SEX AGE MARST RACE RACED HISPAN HISPAND ⋯ SPEAKENG\n",
       "6346518 2017 1       43    1   18  6     1    100   0        0     ⋯ 3       \n",
       "6346519 2017 1       87    1   30  6     1    100   0        0     ⋯ 4       \n",
       "6346520 2017 1       38    1   18  6     1    100   4      422     ⋯ 3       \n",
       "6346521 2017 1       37    1   51  4     1    100   0        0     ⋯ 4       \n",
       "6346522 2017 1       43    1   19  6     1    100   0        0     ⋯ 3       \n",
       "6346523 2017 1       10    2   20  6     1    100   0        0     ⋯ 3       \n",
       "6346524 2017 1       36    1   18  6     1    100   4      498     ⋯ 3       \n",
       "6346525 2017 1       70    2   31  6     8    856   0        0     ⋯ 4       \n",
       "6346526 2017 1       46    1   60  4     1    100   0        0     ⋯ 3       \n",
       "6346527 2017 1        8    1   20  6     1    100   0        0     ⋯ 3       \n",
       "        EDUC EDUCD EMPSTAT EMPSTATD OCC  IND  INCTOT INCWAGE POVERTY\n",
       "6346518 6    63    3       30       4250 7770  4000   4000    0     \n",
       "6346519 6    64    3       30          0    0     0      0    0     \n",
       "6346520 6    65    3       30       4120 8590 10000  10000    0     \n",
       "6346521 8    81    3       30       4250 7770 35300  35300    0     \n",
       "6346522 6    65    1       14       3850 9680 29800  29800    0     \n",
       "6346523 7    71    1       12       4230 7690  9000   9000    0     \n",
       "6346524 6    63    3       30       6050  180  4000      0    0     \n",
       "6346525 6    65    3       30       4030 8680  5000   5000    0     \n",
       "6346526 7    71    3       30       5400 8290  2400   2400   19     \n",
       "6346527 6    65    3       30          0    0     0      0    0     "
      ]
     },
     "metadata": {},
     "output_type": "display_data"
    }
   ],
   "source": [
    "tail(MyData, 10)"
   ]
  },
  {
   "cell_type": "markdown",
   "metadata": {},
   "source": [
    "Lets see how many observations do we have."
   ]
  },
  {
   "cell_type": "code",
   "execution_count": 6,
   "metadata": {},
   "outputs": [
    {
     "data": {
      "text/html": [
       "6346527"
      ],
      "text/latex": [
       "6346527"
      ],
      "text/markdown": [
       "6346527"
      ],
      "text/plain": [
       "[1] 6346527"
      ]
     },
     "metadata": {},
     "output_type": "display_data"
    }
   ],
   "source": [
    " nrow(MyData)"
   ]
  },
  {
   "cell_type": "code",
   "execution_count": 7,
   "metadata": {},
   "outputs": [],
   "source": [
    "## So that we can use the variables names\n",
    "attach(MyData)"
   ]
  },
  {
   "cell_type": "markdown",
   "metadata": {},
   "source": [
    "### Frequencies \n",
    "Exploring the frequencies of race, sex, marital status"
   ]
  },
  {
   "cell_type": "code",
   "execution_count": 11,
   "metadata": {},
   "outputs": [
    {
     "data": {
      "text/plain": [
       "      YEAR\n",
       "HISPAN    2016    2017\n",
       "     0 2701475 2726451\n",
       "     1  287407  289705\n",
       "     2   43054   43583\n",
       "     3   18594   19238\n",
       "     4  105957  111063"
      ]
     },
     "metadata": {},
     "output_type": "display_data"
    }
   ],
   "source": [
    "mytable <- table (HISPAN,YEAR)\n",
    "mytable"
   ]
  },
  {
   "cell_type": "code",
   "execution_count": null,
   "metadata": {},
   "outputs": [],
   "source": []
  },
  {
   "cell_type": "code",
   "execution_count": 8,
   "metadata": {},
   "outputs": [
    {
     "data": {
      "text/plain": [
       "   YEAR\n",
       "SEX    2016    2017\n",
       "  1 1544141 1561186\n",
       "  2 1612346 1628854"
      ]
     },
     "metadata": {},
     "output_type": "display_data"
    }
   ],
   "source": [
    "mytable <- table(SEX,YEAR) # A will be rows, B will be columns \n",
    "mytable # print table "
   ]
  },
  {
   "cell_type": "code",
   "execution_count": 9,
   "metadata": {},
   "outputs": [
    {
     "data": {
      "text/plain": [
       "    YEAR\n",
       "RACE    2016    2017\n",
       "   1 2412703 2438524\n",
       "   2  323250  317308\n",
       "   3   35633   36265\n",
       "   4   42220   43729\n",
       "   5    8138    8196\n",
       "   6  118510  124826\n",
       "   7  121302  121816\n",
       "   8   83415   87384\n",
       "   9   11316   11992"
      ]
     },
     "metadata": {},
     "output_type": "display_data"
    }
   ],
   "source": [
    "mytable <- table(RACE,YEAR) # A will be rows, B will be columns \n",
    "mytable # print table "
   ]
  },
  {
   "cell_type": "markdown",
   "metadata": {},
   "source": [
    "### Clean the data\n",
    "- add labels to SEX, RACE, and EMPSTAT "
   ]
  },
  {
   "cell_type": "code",
   "execution_count": null,
   "metadata": {},
   "outputs": [],
   "source": []
  },
  {
   "cell_type": "markdown",
   "metadata": {},
   "source": [
    "### Visualize the data\n",
    "- bar graphs\n",
    "- pie chart"
   ]
  },
  {
   "cell_type": "code",
   "execution_count": null,
   "metadata": {},
   "outputs": [],
   "source": []
  }
 ],
 "metadata": {
  "kernelspec": {
   "display_name": "R",
   "language": "R",
   "name": "ir"
  },
  "language_info": {
   "codemirror_mode": "r",
   "file_extension": ".r",
   "mimetype": "text/x-r-source",
   "name": "R",
   "pygments_lexer": "r",
   "version": "3.5.2"
  }
 },
 "nbformat": 4,
 "nbformat_minor": 2
}
